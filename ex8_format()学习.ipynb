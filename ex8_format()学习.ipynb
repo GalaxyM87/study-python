{
 "cells": [
  {
   "cell_type": "markdown",
   "metadata": {},
   "source": [
    "ex8:\n",
    "\n",
    "format( )也可以帮助string中嵌入变量，所以formatter可以说创建了四个容器，这四个容器可以放四个变量，我们可以传递给它四个参数，如果我需要传递的参数比四个多，那么我只能放进去四个，后面的自动省略，如果说我要传递的参数比四个少，就会出现错误，传递进去的参数和计算机预想的数量不同，计算机不知道放在哪个容器里\n",
    "\n",
    "IndexError: Replacement index 3 out of range for positional args tuple"
   ]
  },
  {
   "cell_type": "code",
   "execution_count": 23,
   "metadata": {},
   "outputs": [
    {
     "name": "stdout",
     "output_type": "stream",
     "text": [
      "1 2 3 4\n",
      "one two three four\n",
      "True False False True\n",
      "{} {} {} {} {} {} {} {} {} {} {} {} {} {} {} {}\n",
      "Try your Own text here Maybe a poem Or a song about fear\n"
     ]
    }
   ],
   "source": [
    "formatter = \"{} {} {} {}\"\n",
    "#将上面定义的字符串变量formatter打印，利用string.format(),可以输入各种类型的\n",
    "#取第一行定义的formatter字符串，调用format函数，给它传递四个参数\n",
    "#取第一行的字符串formatter，然后调用string.format(),四个参数和四个{}匹配\n",
    "print(formatter.format(1,2,3,4))\n",
    "print(formatter.format(\"one\",\"two\",\"three\",\"four\"))\n",
    "print(formatter.format(True, False, False, True))\n",
    "print(formatter.format(formatter, formatter, formatter, formatter))\n",
    "#如果去掉一个逗号，那么就只会有三个参数，而我设置的formatter需要四个参数，就会出现\n",
    "# IndexError: Replacement index 3 out of range for positional args tuple\n",
    "#如果我用中文的逗号，就会出现（语法错误，不合理的符号）\n",
    "#SyntaxError: invalid character in identifier\n",
    "#如果我去掉\",就会出现(当浏览字符串时出现问题，原因是系统不认识字符串了)\n",
    "#SyntaxError: EOL while scanning string literal()\n",
    "\n",
    "\n",
    "print(formatter.format(\n",
    "    \"Try your\",\n",
    "    \"Own text here\",\n",
    "    \"Maybe a poem\",\n",
    "    \"Or a song about fear\"\n",
    "))"
   ]
  },
  {
   "cell_type": "code",
   "execution_count": null,
   "metadata": {},
   "outputs": [],
   "source": []
  }
 ],
 "metadata": {
  "interpreter": {
   "hash": "f662c5fc6cfd1b6cdd838d00283d5373f48f897367c0c9c9ca63a655c25d0839"
  },
  "kernelspec": {
   "display_name": "Python 3.8.8 64-bit ('base': conda)",
   "language": "python",
   "name": "python3"
  },
  "language_info": {
   "codemirror_mode": {
    "name": "ipython",
    "version": 3
   },
   "file_extension": ".py",
   "mimetype": "text/x-python",
   "name": "python",
   "nbconvert_exporter": "python",
   "pygments_lexer": "ipython3",
   "version": "3.8.8"
  },
  "orig_nbformat": 4
 },
 "nbformat": 4,
 "nbformat_minor": 2
}
