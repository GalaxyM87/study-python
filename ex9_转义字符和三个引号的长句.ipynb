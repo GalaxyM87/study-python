{
 "cells": [
  {
   "cell_type": "markdown",
   "metadata": {},
   "source": [
    "ex8：\n",
    "\n",
    "想在一个print里面换行就用\\n.字符串中碰到了斜杠\\（转义字符），python就会执行转义，例如我想插入一个双引号，直接插入会报错(syntaxError:invalid syntax:语法错误)\n",
    "\n",
    "print(\"Here are the \"days: \",days)\n",
    "                         ^\n",
    "SyntaxError: invalid syntax\n",
    "\n",
    "但\\ \"就不会"
   ]
  },
  {
   "cell_type": "code",
   "execution_count": 8,
   "metadata": {},
   "outputs": [
    {
     "name": "stdout",
     "output_type": "stream",
     "text": [
      "Here are the days:  Mon Tue Wed Thu Fri Sat Sun\n",
      "Here are the months:  Jan\n",
      "Feb\n",
      "Mar\n",
      "Apr\n",
      "May\n",
      "Jun\n",
      "Jul\n",
      "Aug\n",
      "\n",
      "There's something going on here.\n",
      "With the three \"double-quotes\".\n",
      "We'll be able to type as much as we like.\n",
      "Even 4 lines if we want, or 5, or 6.\n",
      "\n"
     ]
    }
   ],
   "source": [
    "days = \"Mon Tue Wed Thu Fri Sat Sun\"\n",
    "months = \"Jan\\nFeb\\nMar\\nApr\\nMay\\nJun\\nJul\\nAug\"\n",
    "print(\"Here are the days: \",days)\n",
    "print(\"Here are the months: \",months)\n",
    "#下面的print中三个引号中不可以用空格\n",
    "#不然会出现：SyntaxError: EOL while scanning string literal （还是字符串问题）\n",
    "#三个引号可以写很长的句子，而且中间的双引号，单引号不用转义（例如第二行）\n",
    "print(\"\"\"\n",
    "There's something going on here.\n",
    "With the three \"double-quotes\".\n",
    "We'll be able to type as much as we like.\n",
    "Even 4 lines if we want, or 5, or 6.\n",
    "\"\"\")"
   ]
  }
 ],
 "metadata": {
  "interpreter": {
   "hash": "f662c5fc6cfd1b6cdd838d00283d5373f48f897367c0c9c9ca63a655c25d0839"
  },
  "kernelspec": {
   "display_name": "Python 3.8.8 64-bit ('base': conda)",
   "language": "python",
   "name": "python3"
  },
  "language_info": {
   "codemirror_mode": {
    "name": "ipython",
    "version": 3
   },
   "file_extension": ".py",
   "mimetype": "text/x-python",
   "name": "python",
   "nbconvert_exporter": "python",
   "pygments_lexer": "ipython3",
   "version": "3.8.8"
  },
  "orig_nbformat": 4
 },
 "nbformat": 4,
 "nbformat_minor": 2
}
