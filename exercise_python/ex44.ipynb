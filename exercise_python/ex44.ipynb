{
 "cells": [
  {
   "cell_type": "code",
   "execution_count": 1,
   "metadata": {},
   "outputs": [
    {
     "name": "stdout",
     "output_type": "stream",
     "text": [
      "PARENT implicit()\n",
      "PARENT implicit()\n"
     ]
    }
   ],
   "source": [
    "class Parent(object):\n",
    "    \n",
    "    def implict(self):\n",
    "        print(\"PARENT implicit()\")\n",
    "        \n",
    "class Child(Parent):\n",
    "    pass\n",
    "\n",
    "dad = Parent()\n",
    "son = Child()\n",
    "\n",
    "dad.implict()\n",
    "son.implict()"
   ]
  },
  {
   "cell_type": "code",
   "execution_count": 1,
   "metadata": {},
   "outputs": [
    {
     "name": "stdout",
     "output_type": "stream",
     "text": [
      "PARENT override()\n",
      "CHILD override()\n"
     ]
    }
   ],
   "source": [
    "class Parent(object):\n",
    "    \n",
    "    def override(self):\n",
    "        print(\"PARENT override()\")\n",
    "\n",
    "class Child(Parent):\n",
    "    \n",
    "    def override(self):\n",
    "        print(\"CHILD override()\")\n",
    "        \n",
    "dad = Parent()\n",
    "son = Child()\n",
    "\n",
    "dad.override()\n",
    "son.override()"
   ]
  },
  {
   "cell_type": "code",
   "execution_count": 1,
   "metadata": {},
   "outputs": [
    {
     "name": "stdout",
     "output_type": "stream",
     "text": [
      "PARENT altered()\n",
      "THERE IS A VOCABULARY\n",
      "CHILD, BEFORE PARENT altered()\n",
      "PARENT altered()\n",
      "2222\n",
      "CHILD, AFTER PARENT altered()\n"
     ]
    }
   ],
   "source": [
    "class Parent(object):\n",
    "    \n",
    "    \n",
    "    def __init__(self):\n",
    "        self.initial = \"THERE IS A VOCABULARY\"\n",
    "        \n",
    "    def altered(self):\n",
    "        print(\"PARENT altered()\")\n",
    "        print(self.initial)\n",
    "        \n",
    "class Child(Parent):\n",
    "    \n",
    "    def __init__(self):\n",
    "    \tself.initial = \"2222\"\n",
    "        \n",
    "    def altered(self):\n",
    "        print(\"CHILD, BEFORE PARENT altered()\")\n",
    "        super().altered()\n",
    "        print(\"CHILD, AFTER PARENT altered()\")\n",
    "        \n",
    "dad = Parent()\n",
    "son = Child()\n",
    "\n",
    "dad.altered()\n",
    "son.altered()"
   ]
  },
  {
   "cell_type": "code",
   "execution_count": 9,
   "metadata": {},
   "outputs": [
    {
     "name": "stdout",
     "output_type": "stream",
     "text": [
      "PARENT implict()\n",
      "PARENT implict()\n",
      "PARENT override()\n",
      "CHILD override()\n",
      "PARENT altered()\n",
      "CHILD, BEFORE PARENT altered()\n",
      "PARENT altered()\n",
      "CHILD, AFTER PARENT altered()\n"
     ]
    }
   ],
   "source": [
    "class Parent(object):\n",
    "    \n",
    "    def override(self):\n",
    "        print(\"PARENT override()\")\n",
    "        \n",
    "    def implict(self):\n",
    "        print(\"PARENT implict()\")\n",
    "        \n",
    "    def altered(self):\n",
    "        print(\"PARENT altered()\")\n",
    "    \n",
    "class Child(Parent):\n",
    "    \n",
    "    #覆盖了父类中的override()函数\n",
    "    def override(self):\n",
    "        print(\"CHILD override()\")\n",
    "        \n",
    "    #覆盖了父类中的altered()函数\n",
    "    def altered(self):\n",
    "        print(\"CHILD, BEFORE PARENT altered()\")\n",
    "        \n",
    "        #调用父类中的altered()函数\n",
    "        super().altered()\n",
    "        print(\"CHILD, AFTER PARENT altered()\")\n",
    "\n",
    "#将类Parent，和类Child实例化\n",
    "dad = Parent()\n",
    "son = Child()\n",
    "\n",
    "dad.implict()\n",
    "son.implict()\n",
    "\n",
    "dad.override()\n",
    "son.override()\n",
    "\n",
    "dad.altered()\n",
    "son.altered()"
   ]
  },
  {
   "cell_type": "code",
   "execution_count": 19,
   "metadata": {},
   "outputs": [
    {
     "name": "stdout",
     "output_type": "stream",
     "text": [
      "INT1\n",
      "INT2\n",
      "Andy\n",
      "INT110\n",
      "Andy\n"
     ]
    }
   ],
   "source": [
    "class Parent(object):\n",
    "    \n",
    "    def __init__(self):\n",
    "        self.int1 = \"INT1\"\n",
    "        self.int2 = \"INT2\"\n",
    "        \n",
    "    def altered(self):\n",
    "        print(self.int1 + \"10\")\n",
    "        print(self.stuff)\n",
    "class Child(Parent):\n",
    "    \n",
    "    #记住一点，在__init__(self, stuff)中的stuff是传进去的参数，但是self.stuff中的stuff可以说一个key，self就像一个字典，和python存储数据的格式十分相似。\n",
    "    def __init__(self,stuff):\n",
    "        self.stuff = stuff\n",
    "        #虽然说在子类中的__init__()覆盖了父类中的__init__()，\n",
    "        #但通过super()我们依旧可以实现父类中的初始函数__init__()\n",
    "        super().__init__()\n",
    "    def printf(self):\n",
    "        print(self.int1)\n",
    "        print(self.int2)\n",
    "        print(self.stuff)\n",
    "name = Child(\"Andy\")\n",
    "name.printf()\n",
    "name.altered()"
   ]
  },
  {
   "cell_type": "code",
   "execution_count": 22,
   "metadata": {},
   "outputs": [
    {
     "name": "stdout",
     "output_type": "stream",
     "text": [
      "<__main__.Child object at 0x000001A038A44A30>\n"
     ]
    }
   ],
   "source": [
    "#类的实例\n",
    "print(name)"
   ]
  },
  {
   "cell_type": "code",
   "execution_count": 23,
   "metadata": {},
   "outputs": [
    {
     "name": "stdout",
     "output_type": "stream",
     "text": [
      "OTHER implict()\n",
      "CHILD override()\n",
      "CHILD, BEFORE OTHER altered()\n",
      "OTHER altered()\n",
      "CHILD, AFTER OTHER altered()\n"
     ]
    }
   ],
   "source": [
    "class Other(object):\n",
    "    \n",
    "    def override(self):\n",
    "        print(\"OTHER override()\")\n",
    "        \n",
    "    def implict(self):\n",
    "        print(\"OTHER implict()\")\n",
    "        \n",
    "    def altered(self):\n",
    "        print(\"OTHER altered()\")\n",
    "        \n",
    "class Child(object):\n",
    "    \n",
    "    def __init__(self):\n",
    "        self.other = Other()\n",
    "     \n",
    "    def implict(self):\n",
    "        self.other.implict()\n",
    "    \n",
    "    #和类Other中的override()函数没有关系\n",
    "    def override(self):\n",
    "        print(\"CHILD override()\")\n",
    "    \n",
    "    def altered(self):\n",
    "        print(\"CHILD, BEFORE OTHER altered()\")\n",
    "        self.other.altered()\n",
    "        print(\"CHILD, AFTER OTHER altered()\")\n",
    "        \n",
    "#son为Child的一个实例\n",
    "son = Child()\n",
    "\n",
    "son.implict()\n",
    "son.override()\n",
    "son.altered()"
   ]
  },
  {
   "cell_type": "code",
   "execution_count": 27,
   "metadata": {},
   "outputs": [
    {
     "data": {
      "text/plain": [
       "{'__name__': '__main__',\n",
       " '__doc__': 'Automatically created module for IPython interactive environment',\n",
       " '__package__': None,\n",
       " '__loader__': None,\n",
       " '__spec__': None,\n",
       " '__builtin__': <module 'builtins' (built-in)>,\n",
       " '__builtins__': <module 'builtins' (built-in)>,\n",
       " '_ih': ['',\n",
       "  'class Parent(object):\\n    \\n    def override(self):\\n        print(\"PARENT override()\")\\n\\nclass Child(Parent):\\n    \\n    def override(self):\\n        print(\"CHILD override()\")\\n        \\ndad = Parent()\\nson = Child()\\n\\ndad.override()\\nson.override()',\n",
       "  'class Parent(object):\\n    \\n    \\n    def __init__(self):\\n        self.initial = \"THERE IS A VOCABULARY\"\\n        \\n    def altered(self):\\n        print(\"PARENT altered()\")\\n        print(self.initial)\\n        \\nclass Child(Parent):\\n    \\n    def altered(self):\\n        print(\"CHILD, BEFORE PARENT altered()\")\\n        super(Child, self).altered()\\n        print(\"CHILD, AFTER PARENT altered()\")\\n        \\ndad = Parent()\\nson = Child()\\n\\ndad.altered()\\nson.altered()',\n",
       "  'class Parent(object):\\n    \\n    \\n    def __init__(self):\\n        self.initial = \"THERE IS A VOCABULARY\"\\n        \\n    def altered(self):\\n        print(\"PARENT altered()\")\\n        print(self.initial)\\n        \\nclass Child(Parent):\\n\\n    def __init__(self):\\n    \\tself.initial = \"2222\"\\n\\n    def altered(self):\\n        print(\"CHILD, BEFORE PARENT altered()\")\\n        super(Child, self).altered()\\n        print(\"CHILD, AFTER PARENT altered()\")\\n        \\ndad = Parent()\\nson = Child()\\n\\ndad.altered()\\nson.altered()',\n",
       "  'class Parent(object):\\n    \\n    \\n    def __init__(self):\\n        self.initial = \"THERE IS A VOCABULARY\"\\n        \\n    def altered(self):\\n        print(\"PARENT altered()\")\\n        print(self.initial)\\n        \\nclass Child(Parent):\\n\\n    def __init__(self):\\n    \\tself.initial = \"2222\"\\n\\n    def altered(self):\\n        print(\"CHILD, BEFORE PARENT altered()\")\\n        super(Child, self).altered()\\n        print(\"CHILD, AFTER PARENT altered()\")\\n        \\ndad = Parent()\\nson = Child()\\n\\ndad.altered()\\nson.altered()',\n",
       "  'class Parent(object):\\n    \\n    \\n    def __init__(self):\\n        self.initial = \"THERE IS A VOCABULARY\"\\n        \\n    def altered(self):\\n        print(\"PARENT altered()\")\\n        print(self.initial)\\n        \\nclass Child(Parent):\\n\\n    def __init__(self):\\n    \\tself.initial = \"2222\"\\n\\n    def altered(self):\\n        print(\"CHILD, BEFORE PARENT altered()\")\\n        super().altered()\\n        print(\"CHILD, AFTER PARENT altered()\")\\n        \\ndad = Parent()\\nson = Child()\\n\\ndad.altered()\\nson.altered()',\n",
       "  'class Parent(object):\\n    \\n    \\n    def __init__(self):\\n        self.initial = \"THERE IS A VOCABULARY\"\\n        \\n    def altered(self):\\n        print(\"PARENT altered()\")\\n        print(self.initial)\\n        \\nclass Child(Parent):\\n    \\n    def __init__(self)\\n    \\tself.initial = \"2222\"\\n        \\n    def altered(self):\\n        print(\"CHILD, BEFORE PARENT altered()\")\\n        super(Child, self).altered()\\n        print(\"CHILD, AFTER PARENT altered()\")\\n        \\ndad = Parent()\\nson = Child()\\n\\ndad.altered()\\nson.altered()',\n",
       "  'class Parent(object):\\n    \\n    \\n    def __init__(self):\\n        self.initial = \"THERE IS A VOCABULARY\"\\n        \\n    def altered(self):\\n        print(\"PARENT altered()\")\\n        print(self.initial)\\n        \\nclass Child(Parent):\\n    \\n    def __init__(self):\\n    \\tself.initial = \"2222\"\\n        \\n    def altered(self):\\n        print(\"CHILD, BEFORE PARENT altered()\")\\n        super(Child, self).altered()\\n        print(\"CHILD, AFTER PARENT altered()\")\\n        \\ndad = Parent()\\nson = Child()\\n\\ndad.altered()\\nson.altered()',\n",
       "  'class Parent(object):\\n    \\n    \\n    def __init__(self):\\n        self.initial = \"THERE IS A VOCABULARY\"\\n        \\n    def altered(self):\\n        print(\"PARENT altered()\")\\n        print(self.initial)\\n        \\nclass Child(Parent):\\n    \\n    def __init__(self):\\n    \\tself.initial = \"2222\"\\n        \\n    def altered(self):\\n        print(\"CHILD, BEFORE PARENT altered()\")\\n        super().altered()\\n        print(\"CHILD, AFTER PARENT altered()\")\\n        \\ndad = Parent()\\nson = Child()\\n\\ndad.altered()\\nson.altered()',\n",
       "  'class Parent(object):\\n    \\n    def override(self):\\n        print(\"PARENT override()\")\\n        \\n    def implict(self):\\n        print(\"PARENT implict()\")\\n        \\n    def altered(self):\\n        print(\"PARENT altered()\")\\n    \\nclass Child(Parent):\\n    \\n    #覆盖了父类中的override()函数\\n    def override(self):\\n        print(\"CHILD override()\")\\n        \\n    #覆盖了父类中的altered()函数\\n    def altered(self):\\n        print(\"CHILD, BEFORE PARENT altered()\")\\n        \\n        #调用父类中的altered()函数\\n        super().altered()\\n        print(\"CHILD, AFTER PARENT altered()\")\\n\\n#将类Parent，和类Child实例化\\ndad = Parent()\\nson = Child()\\n\\ndad.implict()\\nson.implict()\\n\\ndad.override()\\nson.override()\\n\\ndad.altered()\\nson.altered()',\n",
       "  'class Parent(object):\\n    \\n    def __init__(self):\\n        self.int1 = \"INT1\"\\n        self.int2 = \"INT2\"\\n        \\nclass Child(Parent):\\n    \\n    #记住一点，在__init__(self, stuff)中的stuff是传进去的参数，但是self.stuff中的stuff可以说一个key，self就像一个字典，和python存储数据的格式十分相似。\\n    def __init__(self,stuff):\\n        self.stuff = stuff\\n        #虽然说在子类中的__init__()覆盖了父类中的__init__()，\\n        #但通过super()我们依旧可以实现父类中的初始函数__init__()\\n        super(Child).__init__()\\n    def printf(self):\\n        print(self.int1)\\n        print(self.int2)\\n        print(self.stuff)\\nname = Child(\"Andy\")\\nname.printf()',\n",
       "  'class Parent(object):\\n    \\n    def __init__(self):\\n        self.int1 = \"INT1\"\\n        self.int2 = \"INT2\"\\n        \\nclass Child(Parent):\\n    \\n    #记住一点，在__init__(self, stuff)中的stuff是传进去的参数，但是self.stuff中的stuff可以说一个key，self就像一个字典，和python存储数据的格式十分相似。\\n    def __init__(self,stuff):\\n        self.stuff = stuff\\n        #虽然说在子类中的__init__()覆盖了父类中的__init__()，\\n        #但通过super()我们依旧可以实现父类中的初始函数__init__()\\n        super(Child).__init__(self)\\n    def printf(self):\\n        print(self.int1)\\n        print(self.int2)\\n        print(self.stuff)\\nname = Child(\"Andy\")\\nname.printf()',\n",
       "  'class Parent(object):\\n    \\n    def __init__(self):\\n        self.int1 = \"INT1\"\\n        self.int2 = \"INT2\"\\n        \\nclass Child(Parent):\\n    \\n    #记住一点，在__init__(self, stuff)中的stuff是传进去的参数，但是self.stuff中的stuff可以说一个key，self就像一个字典，和python存储数据的格式十分相似。\\n    def __init__(self,stuff):\\n        self.stuff = stuff\\n        #虽然说在子类中的__init__()覆盖了父类中的__init__()，\\n        #但通过super()我们依旧可以实现父类中的初始函数__init__()\\n        super().__init__()\\n    def printf(self):\\n        print(self.int1)\\n        print(self.int2)\\n        print(self.stuff)\\nname = Child(\"Andy\")\\nname.printf()',\n",
       "  'class Parent(object):\\n    \\n    def __init__():\\n        self.int1 = \"INT1\"\\n        self.int2 = \"INT2\"\\n        \\nclass Child(Parent):\\n    \\n    #记住一点，在__init__(self, stuff)中的stuff是传进去的参数，但是self.stuff中的stuff可以说一个key，self就像一个字典，和python存储数据的格式十分相似。\\n    def __init__(self,stuff):\\n        self.stuff = stuff\\n        #虽然说在子类中的__init__()覆盖了父类中的__init__()，\\n        #但通过super()我们依旧可以实现父类中的初始函数__init__()\\n        super().__init__()\\n    def printf(self):\\n        print(self.int1)\\n        print(self.int2)\\n        print(self.stuff)\\nname = Child(\"Andy\")\\nname.printf()',\n",
       "  'class Parent(object):\\n    \\n    def __init__(self):\\n        self.int1 = \"INT1\"\\n        self.int2 = \"INT2\"\\n        \\nclass Child(Parent):\\n    \\n    #记住一点，在__init__(self, stuff)中的stuff是传进去的参数，但是self.stuff中的stuff可以说一个key，self就像一个字典，和python存储数据的格式十分相似。\\n    def __init__(self,stuff):\\n        self.stuff = stuff\\n        #虽然说在子类中的__init__()覆盖了父类中的__init__()，\\n        #但通过super()我们依旧可以实现父类中的初始函数__init__()\\n        super().__init__()\\n    def printf(self):\\n        print(self.int1)\\n        print(self.int2)\\n        print(self.stuff)\\nname = Child(\"Andy\")\\nname.printf()',\n",
       "  'class Parent(object):\\n    \\n    def __init__(self):\\n        self.int1 = \"INT1\"\\n        self.int2 = \"INT2\"\\n        \\nclass Child(Parent):\\n    \\n    #记住一点，在__init__(self, stuff)中的stuff是传进去的参数，但是self.stuff中的stuff可以说一个key，self就像一个字典，和python存储数据的格式十分相似。\\n    def __init__(self,stuff):\\n        self.stuff = stuff\\n        #虽然说在子类中的__init__()覆盖了父类中的__init__()，\\n        #但通过super()我们依旧可以实现父类中的初始函数__init__()\\n        super().__init__(self)\\n    def printf(self):\\n        print(self.int1)\\n        print(self.int2)\\n        print(self.stuff)\\nname = Child(\"Andy\")\\nname.printf()',\n",
       "  'class Parent(object):\\n    \\n    def __init__(self):\\n        self.int1 = \"INT1\"\\n        self.int2 = \"INT2\"\\n        \\nclass Child(Parent):\\n    \\n    #记住一点，在__init__(self, stuff)中的stuff是传进去的参数，但是self.stuff中的stuff可以说一个key，self就像一个字典，和python存储数据的格式十分相似。\\n    def __init__(self,stuff):\\n        self.stuff = stuff\\n        #虽然说在子类中的__init__()覆盖了父类中的__init__()，\\n        #但通过super()我们依旧可以实现父类中的初始函数__init__()\\n        super().__init__()\\n    def printf(self):\\n        print(self.int1)\\n        print(self.int2)\\n        print(self.stuff)\\nname = Child(\"Andy\")\\nname.printf()',\n",
       "  'class Parent(object):\\n    \\n    def __init__(self):\\n        self.int1 = \"INT1\"\\n        self.int2 = \"INT2\"\\n        \\n    def altered(self):\\n        print(self.int1 + \"10\")\\n        print(self.stuff)\\nclass Child(Parent):\\n    \\n    #记住一点，在__init__(self, stuff)中的stuff是传进去的参数，但是self.stuff中的stuff可以说一个key，self就像一个字典，和python存储数据的格式十分相似。\\n    def __init__(self,stuff):\\n        self.stuff = stuff\\n        #虽然说在子类中的__init__()覆盖了父类中的__init__()，\\n        #但通过super()我们依旧可以实现父类中的初始函数__init__()\\n        super().__init__()\\n    def printf(self):\\n        print(self.int1)\\n        print(self.int2)\\n        print(self.stuff)\\nname = Child(\"Andy\")\\nname.printf()\\nname.altered',\n",
       "  'class Parent(object):\\n    \\n    def __init__(self):\\n        self.int1 = \"INT1\"\\n        self.int2 = \"INT2\"\\n        \\n    def altered(self):\\n        print(self.int1 + \"10\")\\n        #print(self.stuff)\\nclass Child(Parent):\\n    \\n    #记住一点，在__init__(self, stuff)中的stuff是传进去的参数，但是self.stuff中的stuff可以说一个key，self就像一个字典，和python存储数据的格式十分相似。\\n    def __init__(self,stuff):\\n        self.stuff = stuff\\n        #虽然说在子类中的__init__()覆盖了父类中的__init__()，\\n        #但通过super()我们依旧可以实现父类中的初始函数__init__()\\n        super().__init__()\\n    def printf(self):\\n        print(self.int1)\\n        print(self.int2)\\n        print(self.stuff)\\nname = Child(\"Andy\")\\nname.printf()\\nname.altered()',\n",
       "  'class Parent(object):\\n    \\n    def __init__(self):\\n        self.int1 = \"INT1\"\\n        self.int2 = \"INT2\"\\n        \\n    def altered(self):\\n        print(self.int1 + \"10\")\\n        print(self.stuff)\\nclass Child(Parent):\\n    \\n    #记住一点，在__init__(self, stuff)中的stuff是传进去的参数，但是self.stuff中的stuff可以说一个key，self就像一个字典，和python存储数据的格式十分相似。\\n    def __init__(self,stuff):\\n        self.stuff = stuff\\n        #虽然说在子类中的__init__()覆盖了父类中的__init__()，\\n        #但通过super()我们依旧可以实现父类中的初始函数__init__()\\n        super().__init__()\\n    def printf(self):\\n        print(self.int1)\\n        print(self.int2)\\n        print(self.stuff)\\nname = Child(\"Andy\")\\nname.printf()\\nname.altered()',\n",
       "  'type(name)',\n",
       "  'type([1,2,3])',\n",
       "  'print(name)',\n",
       "  'class Other(object):\\n    \\n    def override(self):\\n        print(\"OTHER override()\")\\n        \\n    def implict(self):\\n        print(\"OTHER implict()\")\\n        \\n    def altered(self):\\n        print(\"OTHER altered()\")\\n        \\nclass Child(object):\\n    \\n    def __init__(self):\\n        self.other = Other()\\n     \\n    def implict(self):\\n        self.other.implict()\\n    \\n    #和类Other中的override()函数没有关系\\n    def override(self):\\n        print(\"CHILD override()\")\\n    \\n    def altered(self):\\n        print(\"CHILD, BEFORE OTHER altered()\")\\n        self.other.altered()\\n        print(\"CHILD, AFTER OTHER altered()\")\\n        \\n#son为Child的一个实例\\nson = Child()\\n\\nson.implict()\\nson.override()\\nson.altered()',\n",
       "  '__all__',\n",
       "  '__all__()',\n",
       "  'globals',\n",
       "  'globals()'],\n",
       " '_oh': {17: <bound method Parent.altered of <__main__.Child object at 0x000001A037F94A30>>,\n",
       "  20: __main__.Child,\n",
       "  21: list,\n",
       "  26: <function globals()>},\n",
       " '_dh': ['d:\\\\vscode_file'],\n",
       " 'In': ['',\n",
       "  'class Parent(object):\\n    \\n    def override(self):\\n        print(\"PARENT override()\")\\n\\nclass Child(Parent):\\n    \\n    def override(self):\\n        print(\"CHILD override()\")\\n        \\ndad = Parent()\\nson = Child()\\n\\ndad.override()\\nson.override()',\n",
       "  'class Parent(object):\\n    \\n    \\n    def __init__(self):\\n        self.initial = \"THERE IS A VOCABULARY\"\\n        \\n    def altered(self):\\n        print(\"PARENT altered()\")\\n        print(self.initial)\\n        \\nclass Child(Parent):\\n    \\n    def altered(self):\\n        print(\"CHILD, BEFORE PARENT altered()\")\\n        super(Child, self).altered()\\n        print(\"CHILD, AFTER PARENT altered()\")\\n        \\ndad = Parent()\\nson = Child()\\n\\ndad.altered()\\nson.altered()',\n",
       "  'class Parent(object):\\n    \\n    \\n    def __init__(self):\\n        self.initial = \"THERE IS A VOCABULARY\"\\n        \\n    def altered(self):\\n        print(\"PARENT altered()\")\\n        print(self.initial)\\n        \\nclass Child(Parent):\\n\\n    def __init__(self):\\n    \\tself.initial = \"2222\"\\n\\n    def altered(self):\\n        print(\"CHILD, BEFORE PARENT altered()\")\\n        super(Child, self).altered()\\n        print(\"CHILD, AFTER PARENT altered()\")\\n        \\ndad = Parent()\\nson = Child()\\n\\ndad.altered()\\nson.altered()',\n",
       "  'class Parent(object):\\n    \\n    \\n    def __init__(self):\\n        self.initial = \"THERE IS A VOCABULARY\"\\n        \\n    def altered(self):\\n        print(\"PARENT altered()\")\\n        print(self.initial)\\n        \\nclass Child(Parent):\\n\\n    def __init__(self):\\n    \\tself.initial = \"2222\"\\n\\n    def altered(self):\\n        print(\"CHILD, BEFORE PARENT altered()\")\\n        super(Child, self).altered()\\n        print(\"CHILD, AFTER PARENT altered()\")\\n        \\ndad = Parent()\\nson = Child()\\n\\ndad.altered()\\nson.altered()',\n",
       "  'class Parent(object):\\n    \\n    \\n    def __init__(self):\\n        self.initial = \"THERE IS A VOCABULARY\"\\n        \\n    def altered(self):\\n        print(\"PARENT altered()\")\\n        print(self.initial)\\n        \\nclass Child(Parent):\\n\\n    def __init__(self):\\n    \\tself.initial = \"2222\"\\n\\n    def altered(self):\\n        print(\"CHILD, BEFORE PARENT altered()\")\\n        super().altered()\\n        print(\"CHILD, AFTER PARENT altered()\")\\n        \\ndad = Parent()\\nson = Child()\\n\\ndad.altered()\\nson.altered()',\n",
       "  'class Parent(object):\\n    \\n    \\n    def __init__(self):\\n        self.initial = \"THERE IS A VOCABULARY\"\\n        \\n    def altered(self):\\n        print(\"PARENT altered()\")\\n        print(self.initial)\\n        \\nclass Child(Parent):\\n    \\n    def __init__(self)\\n    \\tself.initial = \"2222\"\\n        \\n    def altered(self):\\n        print(\"CHILD, BEFORE PARENT altered()\")\\n        super(Child, self).altered()\\n        print(\"CHILD, AFTER PARENT altered()\")\\n        \\ndad = Parent()\\nson = Child()\\n\\ndad.altered()\\nson.altered()',\n",
       "  'class Parent(object):\\n    \\n    \\n    def __init__(self):\\n        self.initial = \"THERE IS A VOCABULARY\"\\n        \\n    def altered(self):\\n        print(\"PARENT altered()\")\\n        print(self.initial)\\n        \\nclass Child(Parent):\\n    \\n    def __init__(self):\\n    \\tself.initial = \"2222\"\\n        \\n    def altered(self):\\n        print(\"CHILD, BEFORE PARENT altered()\")\\n        super(Child, self).altered()\\n        print(\"CHILD, AFTER PARENT altered()\")\\n        \\ndad = Parent()\\nson = Child()\\n\\ndad.altered()\\nson.altered()',\n",
       "  'class Parent(object):\\n    \\n    \\n    def __init__(self):\\n        self.initial = \"THERE IS A VOCABULARY\"\\n        \\n    def altered(self):\\n        print(\"PARENT altered()\")\\n        print(self.initial)\\n        \\nclass Child(Parent):\\n    \\n    def __init__(self):\\n    \\tself.initial = \"2222\"\\n        \\n    def altered(self):\\n        print(\"CHILD, BEFORE PARENT altered()\")\\n        super().altered()\\n        print(\"CHILD, AFTER PARENT altered()\")\\n        \\ndad = Parent()\\nson = Child()\\n\\ndad.altered()\\nson.altered()',\n",
       "  'class Parent(object):\\n    \\n    def override(self):\\n        print(\"PARENT override()\")\\n        \\n    def implict(self):\\n        print(\"PARENT implict()\")\\n        \\n    def altered(self):\\n        print(\"PARENT altered()\")\\n    \\nclass Child(Parent):\\n    \\n    #覆盖了父类中的override()函数\\n    def override(self):\\n        print(\"CHILD override()\")\\n        \\n    #覆盖了父类中的altered()函数\\n    def altered(self):\\n        print(\"CHILD, BEFORE PARENT altered()\")\\n        \\n        #调用父类中的altered()函数\\n        super().altered()\\n        print(\"CHILD, AFTER PARENT altered()\")\\n\\n#将类Parent，和类Child实例化\\ndad = Parent()\\nson = Child()\\n\\ndad.implict()\\nson.implict()\\n\\ndad.override()\\nson.override()\\n\\ndad.altered()\\nson.altered()',\n",
       "  'class Parent(object):\\n    \\n    def __init__(self):\\n        self.int1 = \"INT1\"\\n        self.int2 = \"INT2\"\\n        \\nclass Child(Parent):\\n    \\n    #记住一点，在__init__(self, stuff)中的stuff是传进去的参数，但是self.stuff中的stuff可以说一个key，self就像一个字典，和python存储数据的格式十分相似。\\n    def __init__(self,stuff):\\n        self.stuff = stuff\\n        #虽然说在子类中的__init__()覆盖了父类中的__init__()，\\n        #但通过super()我们依旧可以实现父类中的初始函数__init__()\\n        super(Child).__init__()\\n    def printf(self):\\n        print(self.int1)\\n        print(self.int2)\\n        print(self.stuff)\\nname = Child(\"Andy\")\\nname.printf()',\n",
       "  'class Parent(object):\\n    \\n    def __init__(self):\\n        self.int1 = \"INT1\"\\n        self.int2 = \"INT2\"\\n        \\nclass Child(Parent):\\n    \\n    #记住一点，在__init__(self, stuff)中的stuff是传进去的参数，但是self.stuff中的stuff可以说一个key，self就像一个字典，和python存储数据的格式十分相似。\\n    def __init__(self,stuff):\\n        self.stuff = stuff\\n        #虽然说在子类中的__init__()覆盖了父类中的__init__()，\\n        #但通过super()我们依旧可以实现父类中的初始函数__init__()\\n        super(Child).__init__(self)\\n    def printf(self):\\n        print(self.int1)\\n        print(self.int2)\\n        print(self.stuff)\\nname = Child(\"Andy\")\\nname.printf()',\n",
       "  'class Parent(object):\\n    \\n    def __init__(self):\\n        self.int1 = \"INT1\"\\n        self.int2 = \"INT2\"\\n        \\nclass Child(Parent):\\n    \\n    #记住一点，在__init__(self, stuff)中的stuff是传进去的参数，但是self.stuff中的stuff可以说一个key，self就像一个字典，和python存储数据的格式十分相似。\\n    def __init__(self,stuff):\\n        self.stuff = stuff\\n        #虽然说在子类中的__init__()覆盖了父类中的__init__()，\\n        #但通过super()我们依旧可以实现父类中的初始函数__init__()\\n        super().__init__()\\n    def printf(self):\\n        print(self.int1)\\n        print(self.int2)\\n        print(self.stuff)\\nname = Child(\"Andy\")\\nname.printf()',\n",
       "  'class Parent(object):\\n    \\n    def __init__():\\n        self.int1 = \"INT1\"\\n        self.int2 = \"INT2\"\\n        \\nclass Child(Parent):\\n    \\n    #记住一点，在__init__(self, stuff)中的stuff是传进去的参数，但是self.stuff中的stuff可以说一个key，self就像一个字典，和python存储数据的格式十分相似。\\n    def __init__(self,stuff):\\n        self.stuff = stuff\\n        #虽然说在子类中的__init__()覆盖了父类中的__init__()，\\n        #但通过super()我们依旧可以实现父类中的初始函数__init__()\\n        super().__init__()\\n    def printf(self):\\n        print(self.int1)\\n        print(self.int2)\\n        print(self.stuff)\\nname = Child(\"Andy\")\\nname.printf()',\n",
       "  'class Parent(object):\\n    \\n    def __init__(self):\\n        self.int1 = \"INT1\"\\n        self.int2 = \"INT2\"\\n        \\nclass Child(Parent):\\n    \\n    #记住一点，在__init__(self, stuff)中的stuff是传进去的参数，但是self.stuff中的stuff可以说一个key，self就像一个字典，和python存储数据的格式十分相似。\\n    def __init__(self,stuff):\\n        self.stuff = stuff\\n        #虽然说在子类中的__init__()覆盖了父类中的__init__()，\\n        #但通过super()我们依旧可以实现父类中的初始函数__init__()\\n        super().__init__()\\n    def printf(self):\\n        print(self.int1)\\n        print(self.int2)\\n        print(self.stuff)\\nname = Child(\"Andy\")\\nname.printf()',\n",
       "  'class Parent(object):\\n    \\n    def __init__(self):\\n        self.int1 = \"INT1\"\\n        self.int2 = \"INT2\"\\n        \\nclass Child(Parent):\\n    \\n    #记住一点，在__init__(self, stuff)中的stuff是传进去的参数，但是self.stuff中的stuff可以说一个key，self就像一个字典，和python存储数据的格式十分相似。\\n    def __init__(self,stuff):\\n        self.stuff = stuff\\n        #虽然说在子类中的__init__()覆盖了父类中的__init__()，\\n        #但通过super()我们依旧可以实现父类中的初始函数__init__()\\n        super().__init__(self)\\n    def printf(self):\\n        print(self.int1)\\n        print(self.int2)\\n        print(self.stuff)\\nname = Child(\"Andy\")\\nname.printf()',\n",
       "  'class Parent(object):\\n    \\n    def __init__(self):\\n        self.int1 = \"INT1\"\\n        self.int2 = \"INT2\"\\n        \\nclass Child(Parent):\\n    \\n    #记住一点，在__init__(self, stuff)中的stuff是传进去的参数，但是self.stuff中的stuff可以说一个key，self就像一个字典，和python存储数据的格式十分相似。\\n    def __init__(self,stuff):\\n        self.stuff = stuff\\n        #虽然说在子类中的__init__()覆盖了父类中的__init__()，\\n        #但通过super()我们依旧可以实现父类中的初始函数__init__()\\n        super().__init__()\\n    def printf(self):\\n        print(self.int1)\\n        print(self.int2)\\n        print(self.stuff)\\nname = Child(\"Andy\")\\nname.printf()',\n",
       "  'class Parent(object):\\n    \\n    def __init__(self):\\n        self.int1 = \"INT1\"\\n        self.int2 = \"INT2\"\\n        \\n    def altered(self):\\n        print(self.int1 + \"10\")\\n        print(self.stuff)\\nclass Child(Parent):\\n    \\n    #记住一点，在__init__(self, stuff)中的stuff是传进去的参数，但是self.stuff中的stuff可以说一个key，self就像一个字典，和python存储数据的格式十分相似。\\n    def __init__(self,stuff):\\n        self.stuff = stuff\\n        #虽然说在子类中的__init__()覆盖了父类中的__init__()，\\n        #但通过super()我们依旧可以实现父类中的初始函数__init__()\\n        super().__init__()\\n    def printf(self):\\n        print(self.int1)\\n        print(self.int2)\\n        print(self.stuff)\\nname = Child(\"Andy\")\\nname.printf()\\nname.altered',\n",
       "  'class Parent(object):\\n    \\n    def __init__(self):\\n        self.int1 = \"INT1\"\\n        self.int2 = \"INT2\"\\n        \\n    def altered(self):\\n        print(self.int1 + \"10\")\\n        #print(self.stuff)\\nclass Child(Parent):\\n    \\n    #记住一点，在__init__(self, stuff)中的stuff是传进去的参数，但是self.stuff中的stuff可以说一个key，self就像一个字典，和python存储数据的格式十分相似。\\n    def __init__(self,stuff):\\n        self.stuff = stuff\\n        #虽然说在子类中的__init__()覆盖了父类中的__init__()，\\n        #但通过super()我们依旧可以实现父类中的初始函数__init__()\\n        super().__init__()\\n    def printf(self):\\n        print(self.int1)\\n        print(self.int2)\\n        print(self.stuff)\\nname = Child(\"Andy\")\\nname.printf()\\nname.altered()',\n",
       "  'class Parent(object):\\n    \\n    def __init__(self):\\n        self.int1 = \"INT1\"\\n        self.int2 = \"INT2\"\\n        \\n    def altered(self):\\n        print(self.int1 + \"10\")\\n        print(self.stuff)\\nclass Child(Parent):\\n    \\n    #记住一点，在__init__(self, stuff)中的stuff是传进去的参数，但是self.stuff中的stuff可以说一个key，self就像一个字典，和python存储数据的格式十分相似。\\n    def __init__(self,stuff):\\n        self.stuff = stuff\\n        #虽然说在子类中的__init__()覆盖了父类中的__init__()，\\n        #但通过super()我们依旧可以实现父类中的初始函数__init__()\\n        super().__init__()\\n    def printf(self):\\n        print(self.int1)\\n        print(self.int2)\\n        print(self.stuff)\\nname = Child(\"Andy\")\\nname.printf()\\nname.altered()',\n",
       "  'type(name)',\n",
       "  'type([1,2,3])',\n",
       "  'print(name)',\n",
       "  'class Other(object):\\n    \\n    def override(self):\\n        print(\"OTHER override()\")\\n        \\n    def implict(self):\\n        print(\"OTHER implict()\")\\n        \\n    def altered(self):\\n        print(\"OTHER altered()\")\\n        \\nclass Child(object):\\n    \\n    def __init__(self):\\n        self.other = Other()\\n     \\n    def implict(self):\\n        self.other.implict()\\n    \\n    #和类Other中的override()函数没有关系\\n    def override(self):\\n        print(\"CHILD override()\")\\n    \\n    def altered(self):\\n        print(\"CHILD, BEFORE OTHER altered()\")\\n        self.other.altered()\\n        print(\"CHILD, AFTER OTHER altered()\")\\n        \\n#son为Child的一个实例\\nson = Child()\\n\\nson.implict()\\nson.override()\\nson.altered()',\n",
       "  '__all__',\n",
       "  '__all__()',\n",
       "  'globals',\n",
       "  'globals()'],\n",
       " 'Out': {17: <bound method Parent.altered of <__main__.Child object at 0x000001A037F94A30>>,\n",
       "  20: __main__.Child,\n",
       "  21: list,\n",
       "  26: <function globals()>},\n",
       " 'get_ipython': <bound method InteractiveShell.get_ipython of <ipykernel.zmqshell.ZMQInteractiveShell object at 0x000001A037F3B4C0>>,\n",
       " 'exit': <IPython.core.autocall.ZMQExitAutocall at 0x1a037f526d0>,\n",
       " 'quit': <IPython.core.autocall.ZMQExitAutocall at 0x1a037f526d0>,\n",
       " '_': <function globals()>,\n",
       " '__': list,\n",
       " '___': __main__.Child,\n",
       " 'os': <module 'os' from 'D:\\\\program\\\\anaconda\\\\lib\\\\os.py'>,\n",
       " 'sys': <module 'sys' (built-in)>,\n",
       " '_i': 'globals',\n",
       " '_ii': '__all__()',\n",
       " '_iii': '__all__',\n",
       " '_i1': 'class Parent(object):\\n    \\n    def override(self):\\n        print(\"PARENT override()\")\\n\\nclass Child(Parent):\\n    \\n    def override(self):\\n        print(\"CHILD override()\")\\n        \\ndad = Parent()\\nson = Child()\\n\\ndad.override()\\nson.override()',\n",
       " 'Parent': __main__.Parent,\n",
       " 'Child': __main__.Child,\n",
       " 'dad': <__main__.Parent at 0x1a038a44a90>,\n",
       " 'son': <__main__.Child at 0x1a037e98df0>,\n",
       " '_i2': 'class Parent(object):\\n    \\n    \\n    def __init__(self):\\n        self.initial = \"THERE IS A VOCABULARY\"\\n        \\n    def altered(self):\\n        print(\"PARENT altered()\")\\n        print(self.initial)\\n        \\nclass Child(Parent):\\n    \\n    def altered(self):\\n        print(\"CHILD, BEFORE PARENT altered()\")\\n        super(Child, self).altered()\\n        print(\"CHILD, AFTER PARENT altered()\")\\n        \\ndad = Parent()\\nson = Child()\\n\\ndad.altered()\\nson.altered()',\n",
       " '_i3': 'class Parent(object):\\n    \\n    \\n    def __init__(self):\\n        self.initial = \"THERE IS A VOCABULARY\"\\n        \\n    def altered(self):\\n        print(\"PARENT altered()\")\\n        print(self.initial)\\n        \\nclass Child(Parent):\\n\\n    def __init__(self):\\n    \\tself.initial = \"2222\"\\n\\n    def altered(self):\\n        print(\"CHILD, BEFORE PARENT altered()\")\\n        super(Child, self).altered()\\n        print(\"CHILD, AFTER PARENT altered()\")\\n        \\ndad = Parent()\\nson = Child()\\n\\ndad.altered()\\nson.altered()',\n",
       " '_i4': 'class Parent(object):\\n    \\n    \\n    def __init__(self):\\n        self.initial = \"THERE IS A VOCABULARY\"\\n        \\n    def altered(self):\\n        print(\"PARENT altered()\")\\n        print(self.initial)\\n        \\nclass Child(Parent):\\n\\n    def __init__(self):\\n    \\tself.initial = \"2222\"\\n\\n    def altered(self):\\n        print(\"CHILD, BEFORE PARENT altered()\")\\n        super(Child, self).altered()\\n        print(\"CHILD, AFTER PARENT altered()\")\\n        \\ndad = Parent()\\nson = Child()\\n\\ndad.altered()\\nson.altered()',\n",
       " '_i5': 'class Parent(object):\\n    \\n    \\n    def __init__(self):\\n        self.initial = \"THERE IS A VOCABULARY\"\\n        \\n    def altered(self):\\n        print(\"PARENT altered()\")\\n        print(self.initial)\\n        \\nclass Child(Parent):\\n\\n    def __init__(self):\\n    \\tself.initial = \"2222\"\\n\\n    def altered(self):\\n        print(\"CHILD, BEFORE PARENT altered()\")\\n        super().altered()\\n        print(\"CHILD, AFTER PARENT altered()\")\\n        \\ndad = Parent()\\nson = Child()\\n\\ndad.altered()\\nson.altered()',\n",
       " '_i6': 'class Parent(object):\\n    \\n    \\n    def __init__(self):\\n        self.initial = \"THERE IS A VOCABULARY\"\\n        \\n    def altered(self):\\n        print(\"PARENT altered()\")\\n        print(self.initial)\\n        \\nclass Child(Parent):\\n    \\n    def __init__(self)\\n    \\tself.initial = \"2222\"\\n        \\n    def altered(self):\\n        print(\"CHILD, BEFORE PARENT altered()\")\\n        super(Child, self).altered()\\n        print(\"CHILD, AFTER PARENT altered()\")\\n        \\ndad = Parent()\\nson = Child()\\n\\ndad.altered()\\nson.altered()',\n",
       " '_i7': 'class Parent(object):\\n    \\n    \\n    def __init__(self):\\n        self.initial = \"THERE IS A VOCABULARY\"\\n        \\n    def altered(self):\\n        print(\"PARENT altered()\")\\n        print(self.initial)\\n        \\nclass Child(Parent):\\n    \\n    def __init__(self):\\n    \\tself.initial = \"2222\"\\n        \\n    def altered(self):\\n        print(\"CHILD, BEFORE PARENT altered()\")\\n        super(Child, self).altered()\\n        print(\"CHILD, AFTER PARENT altered()\")\\n        \\ndad = Parent()\\nson = Child()\\n\\ndad.altered()\\nson.altered()',\n",
       " '_i8': 'class Parent(object):\\n    \\n    \\n    def __init__(self):\\n        self.initial = \"THERE IS A VOCABULARY\"\\n        \\n    def altered(self):\\n        print(\"PARENT altered()\")\\n        print(self.initial)\\n        \\nclass Child(Parent):\\n    \\n    def __init__(self):\\n    \\tself.initial = \"2222\"\\n        \\n    def altered(self):\\n        print(\"CHILD, BEFORE PARENT altered()\")\\n        super().altered()\\n        print(\"CHILD, AFTER PARENT altered()\")\\n        \\ndad = Parent()\\nson = Child()\\n\\ndad.altered()\\nson.altered()',\n",
       " '_i9': 'class Parent(object):\\n    \\n    def override(self):\\n        print(\"PARENT override()\")\\n        \\n    def implict(self):\\n        print(\"PARENT implict()\")\\n        \\n    def altered(self):\\n        print(\"PARENT altered()\")\\n    \\nclass Child(Parent):\\n    \\n    #覆盖了父类中的override()函数\\n    def override(self):\\n        print(\"CHILD override()\")\\n        \\n    #覆盖了父类中的altered()函数\\n    def altered(self):\\n        print(\"CHILD, BEFORE PARENT altered()\")\\n        \\n        #调用父类中的altered()函数\\n        super().altered()\\n        print(\"CHILD, AFTER PARENT altered()\")\\n\\n#将类Parent，和类Child实例化\\ndad = Parent()\\nson = Child()\\n\\ndad.implict()\\nson.implict()\\n\\ndad.override()\\nson.override()\\n\\ndad.altered()\\nson.altered()',\n",
       " '_i10': 'class Parent(object):\\n    \\n    def __init__(self):\\n        self.int1 = \"INT1\"\\n        self.int2 = \"INT2\"\\n        \\nclass Child(Parent):\\n    \\n    #记住一点，在__init__(self, stuff)中的stuff是传进去的参数，但是self.stuff中的stuff可以说一个key，self就像一个字典，和python存储数据的格式十分相似。\\n    def __init__(self,stuff):\\n        self.stuff = stuff\\n        #虽然说在子类中的__init__()覆盖了父类中的__init__()，\\n        #但通过super()我们依旧可以实现父类中的初始函数__init__()\\n        super(Child).__init__()\\n    def printf(self):\\n        print(self.int1)\\n        print(self.int2)\\n        print(self.stuff)\\nname = Child(\"Andy\")\\nname.printf()',\n",
       " 'name': <__main__.Child at 0x1a038a44a30>,\n",
       " '_i11': 'class Parent(object):\\n    \\n    def __init__(self):\\n        self.int1 = \"INT1\"\\n        self.int2 = \"INT2\"\\n        \\nclass Child(Parent):\\n    \\n    #记住一点，在__init__(self, stuff)中的stuff是传进去的参数，但是self.stuff中的stuff可以说一个key，self就像一个字典，和python存储数据的格式十分相似。\\n    def __init__(self,stuff):\\n        self.stuff = stuff\\n        #虽然说在子类中的__init__()覆盖了父类中的__init__()，\\n        #但通过super()我们依旧可以实现父类中的初始函数__init__()\\n        super(Child).__init__(self)\\n    def printf(self):\\n        print(self.int1)\\n        print(self.int2)\\n        print(self.stuff)\\nname = Child(\"Andy\")\\nname.printf()',\n",
       " '_i12': 'class Parent(object):\\n    \\n    def __init__(self):\\n        self.int1 = \"INT1\"\\n        self.int2 = \"INT2\"\\n        \\nclass Child(Parent):\\n    \\n    #记住一点，在__init__(self, stuff)中的stuff是传进去的参数，但是self.stuff中的stuff可以说一个key，self就像一个字典，和python存储数据的格式十分相似。\\n    def __init__(self,stuff):\\n        self.stuff = stuff\\n        #虽然说在子类中的__init__()覆盖了父类中的__init__()，\\n        #但通过super()我们依旧可以实现父类中的初始函数__init__()\\n        super().__init__()\\n    def printf(self):\\n        print(self.int1)\\n        print(self.int2)\\n        print(self.stuff)\\nname = Child(\"Andy\")\\nname.printf()',\n",
       " '_i13': 'class Parent(object):\\n    \\n    def __init__():\\n        self.int1 = \"INT1\"\\n        self.int2 = \"INT2\"\\n        \\nclass Child(Parent):\\n    \\n    #记住一点，在__init__(self, stuff)中的stuff是传进去的参数，但是self.stuff中的stuff可以说一个key，self就像一个字典，和python存储数据的格式十分相似。\\n    def __init__(self,stuff):\\n        self.stuff = stuff\\n        #虽然说在子类中的__init__()覆盖了父类中的__init__()，\\n        #但通过super()我们依旧可以实现父类中的初始函数__init__()\\n        super().__init__()\\n    def printf(self):\\n        print(self.int1)\\n        print(self.int2)\\n        print(self.stuff)\\nname = Child(\"Andy\")\\nname.printf()',\n",
       " '_i14': 'class Parent(object):\\n    \\n    def __init__(self):\\n        self.int1 = \"INT1\"\\n        self.int2 = \"INT2\"\\n        \\nclass Child(Parent):\\n    \\n    #记住一点，在__init__(self, stuff)中的stuff是传进去的参数，但是self.stuff中的stuff可以说一个key，self就像一个字典，和python存储数据的格式十分相似。\\n    def __init__(self,stuff):\\n        self.stuff = stuff\\n        #虽然说在子类中的__init__()覆盖了父类中的__init__()，\\n        #但通过super()我们依旧可以实现父类中的初始函数__init__()\\n        super().__init__()\\n    def printf(self):\\n        print(self.int1)\\n        print(self.int2)\\n        print(self.stuff)\\nname = Child(\"Andy\")\\nname.printf()',\n",
       " '_i15': 'class Parent(object):\\n    \\n    def __init__(self):\\n        self.int1 = \"INT1\"\\n        self.int2 = \"INT2\"\\n        \\nclass Child(Parent):\\n    \\n    #记住一点，在__init__(self, stuff)中的stuff是传进去的参数，但是self.stuff中的stuff可以说一个key，self就像一个字典，和python存储数据的格式十分相似。\\n    def __init__(self,stuff):\\n        self.stuff = stuff\\n        #虽然说在子类中的__init__()覆盖了父类中的__init__()，\\n        #但通过super()我们依旧可以实现父类中的初始函数__init__()\\n        super().__init__(self)\\n    def printf(self):\\n        print(self.int1)\\n        print(self.int2)\\n        print(self.stuff)\\nname = Child(\"Andy\")\\nname.printf()',\n",
       " '_i16': 'class Parent(object):\\n    \\n    def __init__(self):\\n        self.int1 = \"INT1\"\\n        self.int2 = \"INT2\"\\n        \\nclass Child(Parent):\\n    \\n    #记住一点，在__init__(self, stuff)中的stuff是传进去的参数，但是self.stuff中的stuff可以说一个key，self就像一个字典，和python存储数据的格式十分相似。\\n    def __init__(self,stuff):\\n        self.stuff = stuff\\n        #虽然说在子类中的__init__()覆盖了父类中的__init__()，\\n        #但通过super()我们依旧可以实现父类中的初始函数__init__()\\n        super().__init__()\\n    def printf(self):\\n        print(self.int1)\\n        print(self.int2)\\n        print(self.stuff)\\nname = Child(\"Andy\")\\nname.printf()',\n",
       " '_i17': 'class Parent(object):\\n    \\n    def __init__(self):\\n        self.int1 = \"INT1\"\\n        self.int2 = \"INT2\"\\n        \\n    def altered(self):\\n        print(self.int1 + \"10\")\\n        print(self.stuff)\\nclass Child(Parent):\\n    \\n    #记住一点，在__init__(self, stuff)中的stuff是传进去的参数，但是self.stuff中的stuff可以说一个key，self就像一个字典，和python存储数据的格式十分相似。\\n    def __init__(self,stuff):\\n        self.stuff = stuff\\n        #虽然说在子类中的__init__()覆盖了父类中的__init__()，\\n        #但通过super()我们依旧可以实现父类中的初始函数__init__()\\n        super().__init__()\\n    def printf(self):\\n        print(self.int1)\\n        print(self.int2)\\n        print(self.stuff)\\nname = Child(\"Andy\")\\nname.printf()\\nname.altered',\n",
       " '_17': <bound method Parent.altered of <__main__.Child object at 0x000001A037F94A30>>,\n",
       " '_i18': 'class Parent(object):\\n    \\n    def __init__(self):\\n        self.int1 = \"INT1\"\\n        self.int2 = \"INT2\"\\n        \\n    def altered(self):\\n        print(self.int1 + \"10\")\\n        #print(self.stuff)\\nclass Child(Parent):\\n    \\n    #记住一点，在__init__(self, stuff)中的stuff是传进去的参数，但是self.stuff中的stuff可以说一个key，self就像一个字典，和python存储数据的格式十分相似。\\n    def __init__(self,stuff):\\n        self.stuff = stuff\\n        #虽然说在子类中的__init__()覆盖了父类中的__init__()，\\n        #但通过super()我们依旧可以实现父类中的初始函数__init__()\\n        super().__init__()\\n    def printf(self):\\n        print(self.int1)\\n        print(self.int2)\\n        print(self.stuff)\\nname = Child(\"Andy\")\\nname.printf()\\nname.altered()',\n",
       " '_i19': 'class Parent(object):\\n    \\n    def __init__(self):\\n        self.int1 = \"INT1\"\\n        self.int2 = \"INT2\"\\n        \\n    def altered(self):\\n        print(self.int1 + \"10\")\\n        print(self.stuff)\\nclass Child(Parent):\\n    \\n    #记住一点，在__init__(self, stuff)中的stuff是传进去的参数，但是self.stuff中的stuff可以说一个key，self就像一个字典，和python存储数据的格式十分相似。\\n    def __init__(self,stuff):\\n        self.stuff = stuff\\n        #虽然说在子类中的__init__()覆盖了父类中的__init__()，\\n        #但通过super()我们依旧可以实现父类中的初始函数__init__()\\n        super().__init__()\\n    def printf(self):\\n        print(self.int1)\\n        print(self.int2)\\n        print(self.stuff)\\nname = Child(\"Andy\")\\nname.printf()\\nname.altered()',\n",
       " '_i20': 'type(name)',\n",
       " '_20': __main__.Child,\n",
       " '_i21': 'type([1,2,3])',\n",
       " '_21': list,\n",
       " '_i22': 'print(name)',\n",
       " '_i23': 'class Other(object):\\n    \\n    def override(self):\\n        print(\"OTHER override()\")\\n        \\n    def implict(self):\\n        print(\"OTHER implict()\")\\n        \\n    def altered(self):\\n        print(\"OTHER altered()\")\\n        \\nclass Child(object):\\n    \\n    def __init__(self):\\n        self.other = Other()\\n     \\n    def implict(self):\\n        self.other.implict()\\n    \\n    #和类Other中的override()函数没有关系\\n    def override(self):\\n        print(\"CHILD override()\")\\n    \\n    def altered(self):\\n        print(\"CHILD, BEFORE OTHER altered()\")\\n        self.other.altered()\\n        print(\"CHILD, AFTER OTHER altered()\")\\n        \\n#son为Child的一个实例\\nson = Child()\\n\\nson.implict()\\nson.override()\\nson.altered()',\n",
       " 'Other': __main__.Other,\n",
       " '_i24': '__all__',\n",
       " '_i25': '__all__()',\n",
       " '_i26': 'globals',\n",
       " '_26': <function globals()>,\n",
       " '_i27': 'globals()'}"
      ]
     },
     "execution_count": 27,
     "metadata": {},
     "output_type": "execute_result"
    }
   ],
   "source": [
    "globals()"
   ]
  },
  {
   "cell_type": "code",
   "execution_count": null,
   "metadata": {},
   "outputs": [],
   "source": []
  }
 ],
 "metadata": {
  "interpreter": {
   "hash": "f662c5fc6cfd1b6cdd838d00283d5373f48f897367c0c9c9ca63a655c25d0839"
  },
  "kernelspec": {
   "display_name": "Python 3.8.8 64-bit ('base': conda)",
   "language": "python",
   "name": "python3"
  },
  "language_info": {
   "codemirror_mode": {
    "name": "ipython",
    "version": 3
   },
   "file_extension": ".py",
   "mimetype": "text/x-python",
   "name": "python",
   "nbconvert_exporter": "python",
   "pygments_lexer": "ipython3",
   "version": "3.8.8"
  },
  "orig_nbformat": 4
 },
 "nbformat": 4,
 "nbformat_minor": 2
}
