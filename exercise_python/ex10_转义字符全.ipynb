{
 "cells": [
  {
   "cell_type": "markdown",
   "metadata": {},
   "source": [
    "ex10:\n",
    "\n",
    "学到了一些好用的转义字符，例如\\t:一个水平制表符，\\n换行符，以及\\后面可以加很多的字符"
   ]
  },
  {
   "cell_type": "code",
   "execution_count": 1,
   "metadata": {},
   "outputs": [
    {
     "name": "stdout",
     "output_type": "stream",
     "text": [
      "\tI'm tabbed in.\n",
      "I'm split\n",
      "on a line\n",
      "I'm \\ a \\ cat\n",
      "\n",
      "I'll do a list:\n",
      "\t* Cat food\n",
      "\t* Fishes\n",
      "\t* Catnip\n",
      "\t* Grass\n",
      "\n",
      "\n",
      "I'll list a prize\n",
      "\t* 15\n",
      "\t* 20\n",
      "\t* 25\n",
      "\t* 30\n",
      "\n"
     ]
    }
   ],
   "source": [
    "#\\t为水平制表符，就是我们日常python的缩进（TAB键）\n",
    "tabby_cat = \"\\tI'm tabbed in.\"\n",
    "#\\n为换行符\n",
    "persian_cat = \"I'm split\\non a line\"\n",
    "#\\\\为转义\\，输出一个转义字符\n",
    "baskclash_cat = \"I'm \\\\ a \\\\ cat\"\n",
    "#\"\"\"三个双引号依旧为长句所用\n",
    "#第三句为一个换行符\\n和一个水平制表符\\t\n",
    "fat_cat = '''\n",
    "I'll do a list:\n",
    "\\t* Cat food\n",
    "\\t* Fishes\n",
    "\\t* Catnip\\n\\t* Grass\n",
    "'''\n",
    "#现在我们将转义字符结合格式化一起用\n",
    "prize_Cat_food = 15\n",
    "prize_Fishes = 20\n",
    "prize_catnip = 25\n",
    "prize_Grass = 30\n",
    "#将变量放入字符串\n",
    "fat_cat_prize = f\"\"\"\n",
    "I'll list a prize\n",
    "\\t* {prize_Cat_food}\n",
    "\\t* {prize_Fishes}\n",
    "\\t* {prize_catnip}\n",
    "\\t* {prize_Grass}\n",
    "\"\"\"\n",
    "\n",
    "\n",
    "print(tabby_cat)\n",
    "print(persian_cat)\n",
    "print(baskclash_cat)\n",
    "print(fat_cat)\n",
    "print(fat_cat_prize)"
   ]
  },
  {
   "cell_type": "code",
   "execution_count": 3,
   "metadata": {},
   "outputs": [
    {
     "name": "stdout",
     "output_type": "stream",
     "text": [
      "I'm\u0007boy.\n",
      "I'boy\n",
      "I'm\fboy\n"
     ]
    }
   ],
   "source": [
    "#\\a为响铃符\n",
    "xianglingfu = \"I'm\\aboy.\"\n",
    "#\\b为退格符,往后退一个\n",
    "tuigefu = \"I'm\\bboy\"\n",
    "#\\f为进纸符,也不是很常用\n",
    "jinzhifu = \"I'm\\fboy\"\n",
    "print(xianglingfu)\n",
    "print(tuigefu)\n",
    "print(jinzhifu)"
   ]
  },
  {
   "cell_type": "code",
   "execution_count": null,
   "metadata": {},
   "outputs": [],
   "source": []
  }
 ],
 "metadata": {
  "interpreter": {
   "hash": "f662c5fc6cfd1b6cdd838d00283d5373f48f897367c0c9c9ca63a655c25d0839"
  },
  "kernelspec": {
   "display_name": "Python 3.8.8 64-bit ('base': conda)",
   "language": "python",
   "name": "python3"
  },
  "language_info": {
   "codemirror_mode": {
    "name": "ipython",
    "version": 3
   },
   "file_extension": ".py",
   "mimetype": "text/x-python",
   "name": "python",
   "nbconvert_exporter": "python",
   "pygments_lexer": "ipython3",
   "version": "3.8.8"
  },
  "orig_nbformat": 4
 },
 "nbformat": 4,
 "nbformat_minor": 2
}
