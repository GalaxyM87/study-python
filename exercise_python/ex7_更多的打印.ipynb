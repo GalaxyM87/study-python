{
 "cells": [
  {
   "cell_type": "markdown",
   "metadata": {},
   "source": [
    "ex7:更多的打印\n",
    "\n",
    "一般来说，''或者\"\"都可以创建字符串，前者一般用于较短的字符串，后者用于较长的字符串，\"\"有利于清晰的看见字符串\n",
    "\n",
    "另外在字符串结尾输入end=''，可以避免换行，在下一个Print中间插入字符"
   ]
  },
  {
   "cell_type": "code",
   "execution_count": 1,
   "metadata": {},
   "outputs": [
    {
     "name": "stdout",
     "output_type": "stream",
     "text": [
      "Mary had a little lamb.\n",
      "It's fleece was white as snow.\n",
      "It's fleece was white as snow\n",
      "And everywhere that Mary went.\n",
      "..........\n",
      "cheese10Burger\n"
     ]
    }
   ],
   "source": [
    "print(\"Mary had a little lamb.\")\n",
    "#同样是格式化输出,和f-string十分相似\n",
    "snow=10\n",
    "#上下结果相同\n",
    "print(\"It's fleece was white as {}.\" .format('snow'))  #这里如果去掉{}，就不会打印snow\n",
    "print(f\"It's fleece was white as {'snow'}\")\n",
    "print(\"And everywhere that Mary went.\")\n",
    "#字符串相乘就是重复\n",
    "print(\".\" * 10)\n",
    "\n",
    "end1 = \"c\"\n",
    "end2 = \"h\"\n",
    "end3 = \"e\"\n",
    "end4 = \"e\"\n",
    "end5 = \"s\"\n",
    "end6 = \"e\"\n",
    "end7 = \"B\"\n",
    "end8 = \"u\"\n",
    "end9 = \"r\"\n",
    "end10 = \"g\"\n",
    "end11 = \"e\"\n",
    "end12 = \"r\"\n",
    "\n",
    "#watch that comma at the end. try removing it to see what happens\n",
    "#告诉python不要换行，end后面类型必须为字符串型，不能够用整数类型,但可以用f_string引入变量\n",
    "print(end1 + end2 + end3 + end4 + end5 + end6,end=f'{snow}')   #在结尾加了end=''后，下一个Print不再换行\n",
    "print(end7 + end8 + end9 + end10 + end11 + end12)"
   ]
  },
  {
   "cell_type": "code",
   "execution_count": null,
   "metadata": {},
   "outputs": [],
   "source": []
  }
 ],
 "metadata": {
  "interpreter": {
   "hash": "f662c5fc6cfd1b6cdd838d00283d5373f48f897367c0c9c9ca63a655c25d0839"
  },
  "kernelspec": {
   "display_name": "Python 3.8.8 64-bit ('base': conda)",
   "language": "python",
   "name": "python3"
  },
  "language_info": {
   "codemirror_mode": {
    "name": "ipython",
    "version": 3
   },
   "file_extension": ".py",
   "mimetype": "text/x-python",
   "name": "python",
   "nbconvert_exporter": "python",
   "pygments_lexer": "ipython3",
   "version": "3.8.8"
  },
  "orig_nbformat": 4
 },
 "nbformat": 4,
 "nbformat_minor": 2
}
