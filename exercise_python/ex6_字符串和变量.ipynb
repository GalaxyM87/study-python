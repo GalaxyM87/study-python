{
 "cells": [
  {
   "cell_type": "markdown",
   "metadata": {},
   "source": [
    "ex6:字符串\n",
    "\n",
    "\n",
    "依然是在字符串中插入变量，然后再把这个字符串赋值给一个新的变量，以及字符串的拼接用+就好"
   ]
  },
  {
   "cell_type": "code",
   "execution_count": 1,
   "metadata": {},
   "outputs": [
    {
     "name": "stdout",
     "output_type": "stream",
     "text": [
      "There are 10 types of people.\n",
      "Those who know binary and those who don't.\n",
      "I said: There are 10 types of people.\n",
      "I also said: Those who know binary and those who don't.\n",
      "Isn't that joke so funny? False!\n",
      "This is the left side of ...a string with a right side.\n"
     ]
    }
   ],
   "source": [
    "#习题6（字符串和文本）\n",
    "type_of_people = 10\n",
    "x = f\"There are {type_of_people} types of people.\"\n",
    "binary = \"binary\"\n",
    "do_not = \"don't\"\n",
    "y = f\"Those who know {binary} and those who {do_not}.\"\n",
    "print(x)\n",
    "print(y)\n",
    "print(f\"I said: {x}\")\n",
    "print(f\"I also said: {y}\")\n",
    "\n",
    "hilarious = False \n",
    "joke_evaluation = \"Isn't that joke so funny? {}!\"\n",
    "\n",
    "print(joke_evaluation.format(hilarious))\n",
    "\n",
    "w = \"This is the left side of ...\"\n",
    "e = \"a string with a right side.\"\n",
    "#拼接字符串\n",
    "print(w+e)"
   ]
  }
 ],
 "metadata": {
  "interpreter": {
   "hash": "f662c5fc6cfd1b6cdd838d00283d5373f48f897367c0c9c9ca63a655c25d0839"
  },
  "kernelspec": {
   "display_name": "Python 3.8.8 64-bit ('base': conda)",
   "language": "python",
   "name": "python3"
  },
  "language_info": {
   "codemirror_mode": {
    "name": "ipython",
    "version": 3
   },
   "file_extension": ".py",
   "mimetype": "text/x-python",
   "name": "python",
   "nbconvert_exporter": "python",
   "pygments_lexer": "ipython3",
   "version": "3.8.8"
  },
  "orig_nbformat": 4
 },
 "nbformat": 4,
 "nbformat_minor": 2
}
