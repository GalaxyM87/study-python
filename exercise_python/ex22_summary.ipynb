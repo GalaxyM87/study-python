{
 "cells": [
  {
   "cell_type": "markdown",
   "metadata": {},
   "source": [
    "总结：\n",
    "\n",
    "<<<<<print(\"\")的各种知识点\n",
    "\n",
    "1.格式化输出字符串：f-string or string.format()\n",
    "\n",
    "a, b, c = 1\n",
    "\n",
    "例：print(f\"{a} + {b} = {c}\") or print(\"a = {}, b = {}\".format(a,b))\n",
    "\n",
    "2.单引号''，双引号\"\"，三引号\"\"\" \"\"\"，分别适用于不同场景，单引号适合比较短的字符串，双引号用在一个句子比较常见，\n",
    "\n",
    "而三引号在多个句子组合的情况\n",
    "例：\n",
    "\n",
    "print(\"\"\"\n",
    "\n",
    "I'm your father\n",
    "\n",
    "You are my son\n",
    "\n",
    "\"\"\")\n",
    "\n",
    "3.转义字符\\ , \\t一个缩进, \\n换行，\\\"转义双引号， \\ \\转义\\\n",
    "例：print(a\\n b)\n",
    "\n"
   ]
  },
  {
   "cell_type": "code",
   "execution_count": 6,
   "metadata": {},
   "outputs": [
    {
     "name": "stdout",
     "output_type": "stream",
     "text": [
      "1 + 1 = 2\n",
      "a = 1, b = 1\n",
      "1 2 3 4\n"
     ]
    }
   ],
   "source": [
    "a, b, c = 1, 1, 2\n",
    "print(f\"{a} + {b} = {c}\")\n",
    "print(\"a = {}, b = {}\".format(a,b))\n",
    "\n",
    "formatter = \"{} {} {} {}\"\n",
    "#取第一行的字符串formatter，将1234分别格式化输出到{}{}{}{}\n",
    "print(formatter.format(1,2,3,4))"
   ]
  },
  {
   "cell_type": "markdown",
   "metadata": {},
   "source": [
    "<<<<<input 和 argv 区别为input()在代码运行到那一行时赋予参数，而argv是在程序开始前就赋予了参数\n",
    "\n",
    "1.在input()中提示别人，input默认接受的是字符串格式，如果需要数字格式需要转换\n",
    "\n",
    "例：a = input(\"Please write a number\")\n",
    "\n",
    "a = int(a)\n",
    "\n",
    "\n",
    "2.在命令行输入所需要的参数\n",
    "\n",
    "from sys import argv\n",
    "\n",
    "script, first, second, third = argv\n",
    "\n",
    "需要在命令行输入 **.py * * * 输入三个参数，然后给了argv这个参数向量，script为脚本名称 *.py\n"
   ]
  },
  {
   "cell_type": "code",
   "execution_count": null,
   "metadata": {},
   "outputs": [],
   "source": [
    "#input or argv\n",
    "from sys import argv\n",
    "\n",
    "script, file_name = argv\n",
    "\n",
    "file_name = input(\"Please write a file name\")"
   ]
  },
  {
   "cell_type": "markdown",
   "metadata": {},
   "source": [
    "\n",
    "<<<<<读取文件和写入文件\n",
    "\n",
    "1.读取文件\n",
    "\n",
    "例如：\n",
    "\n",
    "f = open(file_name)\n",
    "\n",
    "f.read()\n",
    "\n",
    "不要忘记处理完文件后记得f.close()\n",
    "\n",
    "2.写入文件，记载在打开文件时要设置模式，'w'，不写默认为读取模式'r'\n",
    "\n",
    "如果想清除内容，可以输入f.truncate()\n",
    "\n",
    "f = open(file_name, 'w')\n",
    "\n",
    "f.write(\"\")\n",
    "\n",
    "f.truncate()\n",
    "\n",
    "3.f.seek(0)\n",
    "\n",
    "f = open(file_name)\n",
    "\n",
    "print(f.read())\n",
    "\n",
    "读取彷佛在读取一盘磁单，我们读取完所有内容后，如果想再读取一遍，我们就需要回到最初的位置，否则一直往后读将会输出空的内容\n",
    "\n",
    "f.seek(0)\n",
    "\n",
    "print(f.read())"
   ]
  },
  {
   "cell_type": "code",
   "execution_count": 5,
   "metadata": {},
   "outputs": [],
   "source": [
    "#from sys import argv\n",
    "\n",
    "#script, file_name = argv\n",
    "\n",
    "f = open('experiment.txt', 'w')\n",
    "\n",
    "f.truncate()\n",
    "\n",
    "line1 = \"This is line 1.\"\n",
    "\n",
    "line2 = \"This is line 2.\"\n",
    "\n",
    "#记得格式化字符串\n",
    "f.write(f\"{line1}\\n{line2}\")\n",
    "\n",
    "f.close()\n"
   ]
  },
  {
   "cell_type": "markdown",
   "metadata": {},
   "source": [
    "<<<<<函数\n",
    "1.正常的函数\n",
    "\n",
    "def add(a,b):\n",
    "\n",
    "print(f\"ADDING {a} + {b}\")\n",
    "    \n",
    "return a + b\n",
    "\n",
    "需要注意的一点是，函数中赋予的变量名字，只在调用函数中有意义，并非全局变量，而我们在函数外调用的是全局变量，所以二者尽量不要重回，避免混淆\n",
    "\n",
    "2.读取文件的函数\n",
    "\n",
    "def print_all(f):\n",
    "\n",
    "    print(f.read())\n",
    "\n",
    "在这里的读取文件也是要类比于磁带，我在调用完这个函数后，磁头同样停在了最后，我需要重新回到一开始才可以继续读取文件\n",
    "\n",
    "def rewind(f):\n",
    "\n",
    "    f.seek(0)\n",
    "\n",
    "\n",
    "\n",
    "\n",
    "\n"
   ]
  },
  {
   "cell_type": "code",
   "execution_count": null,
   "metadata": {},
   "outputs": [],
   "source": []
  }
 ],
 "metadata": {
  "interpreter": {
   "hash": "f662c5fc6cfd1b6cdd838d00283d5373f48f897367c0c9c9ca63a655c25d0839"
  },
  "kernelspec": {
   "display_name": "Python 3.8.8 64-bit ('base': conda)",
   "language": "python",
   "name": "python3"
  },
  "language_info": {
   "codemirror_mode": {
    "name": "ipython",
    "version": 3
   },
   "file_extension": ".py",
   "mimetype": "text/x-python",
   "name": "python",
   "nbconvert_exporter": "python",
   "pygments_lexer": "ipython3",
   "version": "3.8.8"
  },
  "orig_nbformat": 4
 },
 "nbformat": 4,
 "nbformat_minor": 2
}
