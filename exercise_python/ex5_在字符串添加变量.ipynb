{
 "cells": [
  {
   "cell_type": "markdown",
   "metadata": {},
   "source": [
    "ex5:更多的变量和打印（在字符串里添加变量）"
   ]
  },
  {
   "cell_type": "code",
   "execution_count": 15,
   "metadata": {},
   "outputs": [
    {
     "name": "stdout",
     "output_type": "stream",
     "text": [
      "Let's talk about CuiJunFeng.\n",
      "He's 180 cm tall.\n",
      "He's 180 pounds heavy.\n",
      "Actually that's not too heavy \n",
      "He's got Black eyes and Black hair\n",
      "His teeth are actually White depending on the coffee\n"
     ]
    },
    {
     "data": {
      "text/plain": [
       "5"
      ]
     },
     "execution_count": 15,
     "metadata": {},
     "output_type": "execute_result"
    }
   ],
   "source": [
    "#习题5(学会在字符串里嵌入变量:f'{里面是变量}')\n",
    "name = 'CuiJunFeng'\n",
    "age = 22\n",
    "height = 180 # cm\n",
    "weight = 180 # not a lie\n",
    "eyes = 'Black'\n",
    "teeth = 'White'\n",
    "hair = 'Black'\n",
    "\n",
    "print(f\"Let's talk about {name}.\")\n",
    "print(f\"He's {height} cm tall.\")\n",
    "print(f\"He's {weight} pounds heavy.\")\n",
    "print(\"Actually that's not too heavy \")\n",
    "print(f\"He's got {eyes} eyes and {hair} hair\")\n",
    "print(f\"His teeth are actually {teeth} depending on the coffee\")\n",
    "#将浮点数四舍五入\n",
    "round(4.55555)"
   ]
  }
 ],
 "metadata": {
  "interpreter": {
   "hash": "f662c5fc6cfd1b6cdd838d00283d5373f48f897367c0c9c9ca63a655c25d0839"
  },
  "kernelspec": {
   "display_name": "Python 3.8.8 64-bit ('base': conda)",
   "language": "python",
   "name": "python3"
  },
  "language_info": {
   "codemirror_mode": {
    "name": "ipython",
    "version": 3
   },
   "file_extension": ".py",
   "mimetype": "text/x-python",
   "name": "python",
   "nbconvert_exporter": "python",
   "pygments_lexer": "ipython3",
   "version": "3.8.8"
  },
  "orig_nbformat": 4
 },
 "nbformat": 4,
 "nbformat_minor": 2
}
